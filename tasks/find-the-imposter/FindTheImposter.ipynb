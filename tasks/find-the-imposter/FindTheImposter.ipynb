{
 "cells": [
  {
   "cell_type": "markdown",
   "metadata": {},
   "source": [
    "# Final Project of Introduction to Bioinformatics\n",
    "\n",
    "## Find The Imposter - Deciphering Mysterious Sequences\n",
    "\n",
    "#### TA: Javad Razi (j.razi@outlook.com)"
   ]
  },
  {
   "cell_type": "markdown",
   "metadata": {},
   "source": [
    "## Project Description: The Genomic Detective - Delving into Avian DNA with Galaxy\n",
    "\n",
    "### Overview\n",
    "\n",
    "Welcome to an exploratory journey into the world of bioinformatics, where we will delve into the DNA of flying species. This project presents a unique opportunity to unravel a genomic mystery using Galaxy, a sophisticated yet user-friendly bioinformatics platform. Your mission is to assemble a genome from short-read sequences, revealing insights into a specific DNA sequence found in various avian species. Along the way, you'll learn to navigate the complexities of genome assembly and conduct detailed BLAST searches, piecing together a puzzle millions of years in the making. \n",
    "\n",
    "### Objectives and Workflow\n",
    "\n",
    "1. **Introduction and Setup with Galaxy:**\n",
    "   - Start by exploring the Galaxy platform, designed for bioinformatics analysis. You can find a comprehensive introduction and a step-by-step guide on how to use Galaxy, including how to set up your work environment and get data into Galaxy, at the [Galaxy Project Training Network](https://training.galaxyproject.org/). This resource provides a hands-on introduction to Genomics and Galaxy, covering basic aspects like creating a new history and using the Get Data toolbox.\n",
    "\n",
    "2. **Genome Assembly:**\n",
    "   - For learning about genome assembly methods, the [Galaxy Project Training Network](https://training.galaxyproject.org/) offers a variety of resources and guides. This site provides access to a wide range of learning materials, helping users to understand the intricacies of genome assembly within the Galaxy platform.\n",
    "\n",
    "3. **Performing BLAST Searches:**\n",
    "   - To understand how to perform BLAST searches using Galaxy, the NCBI BLAST User Guide remains a crucial resource. You can access it at [NCBI's BLAST User Guide](https://www.ncbi.nlm.nih.gov/books/NBK279690/). This guide offers detailed instructions and insights into using BLAST for sequence comparison and analysis.\n",
    "\n",
    "4. **Comparative Genomics and Analysis:**\n",
    "   - Compare your findings against existing genomic data. This comparative analysis will help you shed light on the unique aspects of your assembled sequence and its significance in avian genetics.\n",
    "\n",
    "### Specific Deliverables\n",
    "\n",
    "- **Complete Code:** Submit all the code you used for assembling the genome, performing BLAST searches, and further analysis. Ensure your code is well-commented and organized for clarity.\n",
    "- **Assembled Genome Fasta File:** Provide the fasta file of the assembled genome. This should be the direct output of your assembly process.\n",
    "- **BLAST Results CSV File:** Include a CSV file with the results from your BLAST searches. This file should contain detailed information about any genomic matches found.\n",
    "- **Detailed Interpretation:** At the end of your notebook, include a thorough interpretation of your findings. Discuss the significance of the sequence within the avian genome, any similarities or differences with sequences in other species, and the potential implications of these results. Your interpretation should be grounded in the data analysis conducted."
   ]
  },
  {
   "cell_type": "code",
   "execution_count": 22,
   "metadata": {},
   "outputs": [
    {
     "name": "stdout",
     "output_type": "stream",
     "text": [
      "bioblend (1.2.0) is installed\n",
      "biopython (1.81) is installed\n",
      "pandas (2.0.3) is installed\n"
     ]
    }
   ],
   "source": [
    "import sys\n",
    "import subprocess\n",
    "import pkg_resources\n",
    "\n",
    "def install(package):\n",
    "    subprocess.check_call([sys.executable, \"-m\", \"pip\", \"install\", package])\n",
    "\n",
    "REQUIRED_PACKAGES = [\n",
    "    'bioblend',\n",
    "    'biopython',\n",
    "    'pandas'\n",
    "]\n",
    "\n",
    "for package in REQUIRED_PACKAGES:\n",
    "    try:\n",
    "        dist = pkg_resources.get_distribution(package)\n",
    "        print('{} ({}) is installed'.format(dist.key, dist.version))\n",
    "    except pkg_resources.DistributionNotFound:\n",
    "        print('{} is NOT installed'.format(package))\n",
    "        install(package)\n",
    "        print('{} was successfully installed.'.format(package))"
   ]
  },
  {
   "cell_type": "markdown",
   "metadata": {},
   "source": [
    "## Part 1: Assembling Using Galaxy\n",
    "\n",
    "#### Option 1: Python Notebook\n",
    "\n",
    "Finish this section of notebook to assemble a genome from a fasta file with short-read sequences.\n",
    "\n",
    "#### Option 2: Galaxy Web Interface\n",
    "\n",
    "Alternatively, you can use the Galaxy web interface at usegalaxy.org to complete the assembly. This approach allows you to experience the ease and efficiency of Galaxy's web-based tools.\n"
   ]
  },
  {
   "cell_type": "code",
   "execution_count": null,
   "metadata": {},
   "outputs": [],
   "source": []
  },
  {
   "cell_type": "code",
   "execution_count": null,
   "metadata": {},
   "outputs": [],
   "source": []
  },
  {
   "cell_type": "code",
   "execution_count": null,
   "metadata": {},
   "outputs": [],
   "source": []
  },
  {
   "cell_type": "code",
   "execution_count": null,
   "metadata": {},
   "outputs": [],
   "source": [
    "\n"
   ]
  },
  {
   "cell_type": "code",
   "execution_count": null,
   "metadata": {},
   "outputs": [],
   "source": []
  },
  {
   "cell_type": "code",
   "execution_count": 23,
   "metadata": {},
   "outputs": [],
   "source": [
    "# Download the assembled genome from Galaxy. You can use the `download_dataset` method. A FASTA file, containing assembly\n",
    "# of the whole sequence is what we expect here. "
   ]
  },
  {
   "cell_type": "markdown",
   "metadata": {},
   "source": [
    "### Part 2: Using BLAST to Query The Assembled Sequence\n",
    "\n",
    "In this part of the notebook, you will utilize the NCBI BLAST API to analyze the genome sequence you've assembled. This involves integrating the API into your notebook, submitting your sequence for BLAST querying, and then meticulously examining the results. Your focus will be on identifying similarities or unique traits in the sequence compared to others in the NCBI database, particularly exploring its relationship with known sequences in various species. This step is crucial for understanding the evolutionary and biological significance of your assembled genome.\n",
    "\n",
    "**Note**: Unlike the previous section, for this one, you must deliver the full code in the notebook. Doing this part using website will not be graded. "
   ]
  },
  {
   "cell_type": "code",
   "execution_count": 24,
   "metadata": {},
   "outputs": [],
   "source": [
    "# Import necessary libraries\n",
    "from Bio.Blast import NCBIWWW\n",
    "from Bio.Blast import NCBIXML\n",
    "from collections import defaultdict\n",
    "\n"
   ]
  },
  {
   "cell_type": "code",
   "execution_count": 25,
   "metadata": {},
   "outputs": [
    {
     "data": {
      "text/plain": [
       "'GATAGTCGGGTTGGAAACTTACTATCCTTTCTTCTTGGTGTTTAAATAAATCTCCCAAAG\\nGTATCTCTTCAGCTTCCTCGTGCTGAATAAGATAACCCGGTGGAACAGGAGTAGTAGTGG\\nGAGGTATAACAGCTCTTAATGATTCGGCTATTTCATGCATGCCCTGTGTAGTCTGCCAGA\\nAGTCTTCAATGAGATCCACAAAGTGAGTTGCAATCAAAACATGTTTCTTTATTGAATCTG\\nATTTCCAATAAGGCTCTAAAGCGTCTTTAGCATCTCTAACAAGATCATCTATTTTTGGAA\\nAGAAATCATCTGGTAGATCATACACATTGGCTAAGGCTCTAGAAGCATTGATATCCATAT\\nATAAGCAAGAATCATAAACAATGGTACATACCAAAGGTACAGTCACACACGACAACAGCA\\nATGTAGACGTAAAGATACCTTGGCAAGCAGCTCCGAAGGAGAGGGGTGTAATTCTTAAGT\\nTCCACATAGCCTATGTGGAATATATATTGCTTTCGAGAGAGGGGTGTATGGAAAAGCCGT\\nCCAATCAGGAGGTTTGTGCCTGGATGGGCCGTCAGCAGGATTATATTTGCTCGGGACAAA\\nGTACAATTGTATCGGTTTGAGCAATTGTTTGGCCAACATAGCAAAATGCCATGGTAACGT\\nCTGATAACGCTTATGGCAAACAAAAGTTGAATCAGATAAGAGACAACGTGGTTTAATCAT\\nTATCTTGGCTAAACAAGACATCAATAGTTCCTGAACATGTATATCTCTGACCTTTGAAAA\\nAGCAAACACTGCGCTCCCGCCGGTGATATGGGATATTGCGCCATGTGTTGGGGTAGCATC\\nTGTAGCTACACGTGGCAAAGGTACAGAGGACTTTGGCTTTATTCTTAATTTACACACACC\\nCATTGTTAGTTTATATAACAAAGTCCTATAGGATGAAGAGAAGCTAAAGTTTACTTGGTT\\nAGTAATAGCAGCATACATTGGTTTTAACATTTCAATATTACCTTTAGTAAAAGGCAAAAC\\nAAAATTCAAATGCCCCACAAATCTTTGAATACATTTCCAGTCATACCATTCTCCTACTTT\\nTATTTTCTTGATTACAGTCCTTAATTCTTTCCATCTGCTTTCTTCAATCTTCATGAAATT\\nTTCATCAATCTGGTAACCGAGGAATCTTATTTCATTCACCGGAGAAGGCGTGGTTTTGTC\\nAAAGTTTATTCTTATTCCTAACTCTTGTAAAAAAGAGCAGACAGCGTGGCTAATTGCGTT\\nAAGGTGACGAGCGTTTGGGTGGCAGAGGAGGAAGTCATCCATATAAGTGAAAGTCCAAAC\\nGTTAAAGCGACGAGAGATTTCGGATCCGAGGGCAGTAGTGAAGAGATGGAGGAGAAAAGG\\nGCTGAGACCGACGCCCATTGGAGCTTTCCTAAAATAGTAGACCCGTTGTCCGTCAGATAC\\nAGCAAGCCTGCTGCTACTAGCAGGATTAAGAGGAAGATGATAAAAAGCCTGAGATAGGTC\\nCAAAGAAATCCTGGGCATCCCCACGGGCAAGATCCTACGTAATGTGGAGAGATTTGGGCT\\nCCAGTATCTTGGAAAGCGCATTGCATTTTTCCCTTTGGAGAACTGAGAGAAATCCACCAC\\nCAATCTAGCCTCCTCAGTATTTCTAGAATTTTTATCAACAAGAAAAAGCTTACCAGTAAT\\nCCGATTAGGCCAGCTAGTATTCCCCCGAAGGTACCAGACATTTTCTTCTTCAAGGGGGGA\\nGTTTTTATCACTGGCACCGCTGGTTCTGACTGGTATAGCGGATGAGTCTCGAGGAGAGAC\\nTGATTTCCCAGGAGTGGATCGTCCCCGGGTTGTAGCTTCCACTGAGGAGGGGAAGACGGA\\nGGAATGGTGGTGGTTTCCGGTGGTCTTTCTTCTTGATAACGGCGAAAAGCTTCGCGTGCT\\nTTTTGGTCTTCCTCGGGAGTCCACTGGGGCTGAGGAATCTCTTGAGGAGTCGGATTTGAT\\nAATCCTACTCTCCTTCCCGCCCCAGCAGGCCAAGCTCCCTGATTCTGGAGGGTGTTTATC\\nTCCTCCATTGTTTGCACATGGTCTAACACGTGATCTAGTGTTGGAAACTTGCCTGACCAT\\nGTCAAAGTCCCTTTTGGGATCATCCTTCCGGCAAGTTGGTTTAACAGTATTTCTCCTCCT\\nTCTATCCGTCTGACGTCCATTGATTTTGCTGGATGTTGCCCCATCATAAATGTGATGTTG\\nATTGACAAGGTGTTGCTGTTCCCAATTATAAGGCTGACCTTTAAATGTGACCAAATGTTT\\nAGATATCCGCTTATAAAGGATTCCTGCTTCATAGAGCCTGGTTAAATATTTACCTACTAT\\nTGATTCATGTTGCATCACATTGTCAGGATACTTTGGTTTAACCCCTACCTGGACAGGAAA\\nGTAGGAAATGCTCTTGGGCCAGAATTTGGCTGGAGTCAAATATTTCCAATTTCGGGAAGG\\nGCACTCATTAACTACATCTAAATTAAAATGAGTATCCGAAATATCTGGTACTTTCCATTC\\nTGGGTTAAAAGTACAGCCCTTCATTTGATATAGTCCTGACAATTTACCTAAGTGATGCCT\\nAGCAGGTAATTTATTTCCTAGGCGAGGGAGATCTATGGTGGCTGCTCGAACTACGTGGGA\\nGAGGGGAGCCCGCACGTTGGGGTGTAGGGGCTCTCCTTTCCCGGGACTTTGAACGTCTTC\\nTCCCATAGACAACTGTGGTTTTAACTTTTCTTCTTCTAGGTTCGAGTCCACGAGGTTTTC\\nTAGTACCCGTAGTTGTTTTTCTGCCTCCCTGAGCCACCTGGATTGGTCTAGTGATTGCTT\\nCAATGGTCGGGGCATCTCTACCTCTATATTTCTCAGGAGTTGACAACCAAGTACGCAAAC\\nGAGAAATATAGTTAGTAACTTGAGCTTCTCCCCACAGTAAACAGTTGTAATGCCACCAAA\\nGCAATCTCCTAGCCCTATCCAGTGATTCCTCGTTAATTTTTGCATAAGCTTTCAAATGAG\\nCA'"
      ]
     },
     "execution_count": 25,
     "metadata": {},
     "output_type": "execute_result"
    }
   ],
   "source": [
    "# Load the assembled genome\n",
    "with open('Galaxy40-[Assembly_with_MEGAHIT_on_data_1].fasta', 'r') as file:\n",
    "    assembled_genome = file.read()\n",
    "#or open file \"Galaxy26-[SPAdes_on_data_1]\"\n",
    "assembled_genome\n",
    "with open('assembled genome seq.txt', 'r') as file:\n",
    "    assembled_genome_seq = file.read()\n",
    "\n",
    "assembled_genome_seq"
   ]
  },
  {
   "cell_type": "code",
   "execution_count": 26,
   "metadata": {},
   "outputs": [],
   "source": [
    "from Bio.Blast import NCBIWWW\n",
    "\n",
    "# Perform the BLAST query, filtering for eukaryotes\n",
    "\n",
    "### TODO ###\n",
    "result_handle = NCBIWWW.qblast(program=\"blastn\", \n",
    "                               database=\"nt_euk\", #database=\"nt\" for duck hepatitis B virus output\n",
    "                               sequence=assembled_genome_seq, \n",
    "                               entrez_query=\"(none)\", # Only filter Eucaryotes. Hint: You can do this by giving their taxonomy id.\n",
    "                               hitlist_size=100, \n",
    "                               word_size=16,\n",
    "                               expect=0.05,\n",
    "                               nucl_penalty=-2,\n",
    "                               nucl_reward=1)\n",
    "### TODO ###\n"
   ]
  },
  {
   "cell_type": "code",
   "execution_count": null,
   "metadata": {},
   "outputs": [],
   "source": []
  },
  {
   "cell_type": "code",
   "execution_count": 27,
   "metadata": {},
   "outputs": [],
   "source": [
    "from Bio.Blast import NCBIXML\n",
    "from Bio import SearchIO\n",
    "\n",
    "blast_records = NCBIXML.parse(result_handle)\n",
    "\n",
    "\n",
    "\n"
   ]
  },
  {
   "cell_type": "code",
   "execution_count": 28,
   "metadata": {},
   "outputs": [
    {
     "data": {
      "text/html": [
       "<div>\n",
       "<style scoped>\n",
       "    .dataframe tbody tr th:only-of-type {\n",
       "        vertical-align: middle;\n",
       "    }\n",
       "\n",
       "    .dataframe tbody tr th {\n",
       "        vertical-align: top;\n",
       "    }\n",
       "\n",
       "    .dataframe thead th {\n",
       "        text-align: right;\n",
       "    }\n",
       "</style>\n",
       "<table border=\"1\" class=\"dataframe\">\n",
       "  <thead>\n",
       "    <tr style=\"text-align: right;\">\n",
       "      <th></th>\n",
       "      <th>query_id</th>\n",
       "      <th>alignment_title</th>\n",
       "      <th>e_value</th>\n",
       "      <th>identity</th>\n",
       "      <th>accession</th>\n",
       "      <th>taxonomy</th>\n",
       "      <th>species</th>\n",
       "    </tr>\n",
       "  </thead>\n",
       "  <tbody>\n",
       "    <tr>\n",
       "      <th>0</th>\n",
       "      <td>Query_365421</td>\n",
       "      <td>gi|389587610|gb|JQ978784.1| Melopsittacus undu...</td>\n",
       "      <td>5.528100e-118</td>\n",
       "      <td>421</td>\n",
       "      <td>JQ978784</td>\n",
       "      <td>Eukaryota; Metazoa; Chordata; Craniata; Verteb...</td>\n",
       "      <td>Melopsittacus undulatus</td>\n",
       "    </tr>\n",
       "    <tr>\n",
       "      <th>1</th>\n",
       "      <td>Query_365421</td>\n",
       "      <td>gi|389587610|gb|JQ978784.1| Melopsittacus undu...</td>\n",
       "      <td>1.232880e-45</td>\n",
       "      <td>343</td>\n",
       "      <td>JQ978784</td>\n",
       "      <td>Eukaryota; Metazoa; Chordata; Craniata; Verteb...</td>\n",
       "      <td>Melopsittacus undulatus</td>\n",
       "    </tr>\n",
       "    <tr>\n",
       "      <th>2</th>\n",
       "      <td>Query_365421</td>\n",
       "      <td>gi|389587610|gb|JQ978784.1| Melopsittacus undu...</td>\n",
       "      <td>5.225930e-30</td>\n",
       "      <td>173</td>\n",
       "      <td>JQ978784</td>\n",
       "      <td>Eukaryota; Metazoa; Chordata; Craniata; Verteb...</td>\n",
       "      <td>Melopsittacus undulatus</td>\n",
       "    </tr>\n",
       "    <tr>\n",
       "      <th>3</th>\n",
       "      <td>Query_365421</td>\n",
       "      <td>gi|389587610|gb|JQ978784.1| Melopsittacus undu...</td>\n",
       "      <td>3.584980e-09</td>\n",
       "      <td>67</td>\n",
       "      <td>JQ978784</td>\n",
       "      <td>Eukaryota; Metazoa; Chordata; Craniata; Verteb...</td>\n",
       "      <td>Melopsittacus undulatus</td>\n",
       "    </tr>\n",
       "    <tr>\n",
       "      <th>4</th>\n",
       "      <td>Query_365421</td>\n",
       "      <td>gi|389587610|gb|JQ978784.1| Melopsittacus undu...</td>\n",
       "      <td>7.406850e-07</td>\n",
       "      <td>47</td>\n",
       "      <td>JQ978784</td>\n",
       "      <td>Eukaryota; Metazoa; Chordata; Craniata; Verteb...</td>\n",
       "      <td>Melopsittacus undulatus</td>\n",
       "    </tr>\n",
       "  </tbody>\n",
       "</table>\n",
       "</div>"
      ],
      "text/plain": [
       "       query_id                                    alignment_title  \\\n",
       "0  Query_365421  gi|389587610|gb|JQ978784.1| Melopsittacus undu...   \n",
       "1  Query_365421  gi|389587610|gb|JQ978784.1| Melopsittacus undu...   \n",
       "2  Query_365421  gi|389587610|gb|JQ978784.1| Melopsittacus undu...   \n",
       "3  Query_365421  gi|389587610|gb|JQ978784.1| Melopsittacus undu...   \n",
       "4  Query_365421  gi|389587610|gb|JQ978784.1| Melopsittacus undu...   \n",
       "\n",
       "         e_value  identity accession  \\\n",
       "0  5.528100e-118       421  JQ978784   \n",
       "1   1.232880e-45       343  JQ978784   \n",
       "2   5.225930e-30       173  JQ978784   \n",
       "3   3.584980e-09        67  JQ978784   \n",
       "4   7.406850e-07        47  JQ978784   \n",
       "\n",
       "                                            taxonomy                  species  \n",
       "0  Eukaryota; Metazoa; Chordata; Craniata; Verteb...  Melopsittacus undulatus  \n",
       "1  Eukaryota; Metazoa; Chordata; Craniata; Verteb...  Melopsittacus undulatus  \n",
       "2  Eukaryota; Metazoa; Chordata; Craniata; Verteb...  Melopsittacus undulatus  \n",
       "3  Eukaryota; Metazoa; Chordata; Craniata; Verteb...  Melopsittacus undulatus  \n",
       "4  Eukaryota; Metazoa; Chordata; Craniata; Verteb...  Melopsittacus undulatus  "
      ]
     },
     "execution_count": 28,
     "metadata": {},
     "output_type": "execute_result"
    }
   ],
   "source": [
    "import pandas as pd\n",
    "from Bio import Entrez\n",
    "\n",
    "# Set your email here for Entrez\n",
    "Entrez.email = \"jahaniansourena@gmail.com@example.com\"\n",
    "Entrez.api_key = '59075cbc128194f16d15e3281a08d70c6e08'\n",
    "\n",
    "\n",
    "def fetch_taxonomy_info(accession):\n",
    "    \"\"\"\n",
    "    Fetch taxonomy information using Entrez for a given accession number.\n",
    "    \"\"\"\n",
    "    handle = Entrez.efetch(db=\"nucleotide\", id=accession, retmode=\"xml\")\n",
    "    records = Entrez.read(handle)\n",
    "    taxonomy = records[0]['GBSeq_taxonomy']\n",
    "    species = records[0]['GBSeq_organism']\n",
    "    return taxonomy, species\n",
    "\n",
    "\n",
    "def parse_blast_results(blast_records):\n",
    "    \"\"\"\n",
    "    Parse BLAST results and extract relevant information including taxonomy.\n",
    "    \"\"\"\n",
    "    blast_results = []\n",
    "\n",
    "    for record in blast_records:\n",
    "        for alignment in record.alignments:\n",
    "            accession = alignment.accession\n",
    "            taxonomy, species = fetch_taxonomy_info(accession)\n",
    "            for hsp in alignment.hsps:\n",
    "                # These fields are required in your submission\n",
    "                blast_results.append({\n",
    "                    'query_id': record.query_id,\n",
    "                    'alignment_title': alignment.title,\n",
    "                    'e_value': hsp.expect,\n",
    "                    'identity': hsp.identities,\n",
    "                    'accession': accession,\n",
    "                    'taxonomy': taxonomy,\n",
    "                    'species': species\n",
    "                })\n",
    "    return blast_results\n",
    "\n",
    "\n",
    "\n",
    "blast_results = parse_blast_results(blast_records)\n",
    "df = pd.DataFrame(blast_results)\n",
    "df.to_csv('blast_results_with_taxonomy.csv', index=False)\n",
    "\n",
    "df.head()\n"
   ]
  },
  {
   "cell_type": "markdown",
   "metadata": {},
   "source": [
    "## Analysis of The Results\n",
    "\n",
    "### Drawing Your Own Conclusions\n",
    "\n",
    "Now that you have completed the BLAST search, a fascinating part of your journey begins – interpreting the data. This stage is where your critical thinking and creativity come into play. From now on, the rest of the notebook will be about whatever you want it to be. Any path that leads to meaningful insights about the data and provides a solid conclusion for the task is acceptable. Let's explore some possible directions:\n",
    "\n",
    "1. **Species-Specific Patterns:** Examine if the sequence is found exclusively or predominantly in certain species. What could this suggest about its evolution and adaptation? While the focus is not on finding a 'correct' answer, pondering this aspect can lead to interesting hypotheses about species-specific interactions.\n",
    "\n",
    "2. **Functional Insights:** Reflect on the potential roles this sequence might play within the genomes where it's found. Could it be integral to certain biological functions, or a legacy of ancient genomic events?\n",
    "\n",
    "3. **Comparative Genomics:** Compare your findings with sequences in other species. Notice any striking similarities or differences? These comparisons could shed light on the sequence's evolutionary journey.\n",
    "\n",
    "4. **Ecological and Environmental Context:** Consider the ecological and environmental factors that might influence the distribution and evolution of this sequence. How might habitat or lifestyle of the species play a role in its presence or absence?\n",
    "\n",
    "### Additional Tips and Encouragement\n",
    "\n",
    "This project is more about the learning journey and less about achieving perfect results. Here are some additional pointers:\n",
    "\n",
    "1. **Deep Dives:** Encourage yourself to explore the data thoroughly. Use various bioinformatics tools to gain a holistic understanding.\n",
    "\n",
    "2. **Creative Visualization:** Craft visual representations of your analysis. Effective use of charts or infographics can provide insightful perspectives.\n",
    "\n",
    "3. **Open-Ended Exploration:** Feel free to extend your analysis in directions you find intriguing. This could include phylogenetic studies or exploring the ecological aspects of the sequence.\n",
    "\n",
    "Remember, this project is designed to be a learning experience. We don't expect you to uncover all the answers but rather to engage thoughtfully with the data and enjoy the process of discovery."
   ]
  },
  {
   "cell_type": "code",
   "execution_count": 29,
   "metadata": {},
   "outputs": [],
   "source": [
    "### TODO ###"
   ]
  }
 ],
 "metadata": {
  "kernelspec": {
   "display_name": "Python 3",
   "language": "python",
   "name": "python3"
  },
  "language_info": {
   "codemirror_mode": {
    "name": "ipython",
    "version": 3
   },
   "file_extension": ".py",
   "mimetype": "text/x-python",
   "name": "python",
   "nbconvert_exporter": "python",
   "pygments_lexer": "ipython3",
   "version": "3.8.5"
  }
 },
 "nbformat": 4,
 "nbformat_minor": 2
}
